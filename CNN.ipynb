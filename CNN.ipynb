{
  "nbformat": 4,
  "nbformat_minor": 0,
  "metadata": {
    "colab": {
      "provenance": [],
      "authorship_tag": "ABX9TyO4QqLsI8YPrvn99LflbJTj",
      "include_colab_link": true
    },
    "kernelspec": {
      "name": "python3",
      "display_name": "Python 3"
    },
    "language_info": {
      "name": "python"
    }
  },
  "cells": [
    {
      "cell_type": "markdown",
      "metadata": {
        "id": "view-in-github",
        "colab_type": "text"
      },
      "source": [
        "<a href=\"https://colab.research.google.com/github/Raul055/AI_2024/blob/main/CNN.ipynb\" target=\"_parent\"><img src=\"https://colab.research.google.com/assets/colab-badge.svg\" alt=\"Open In Colab\"/></a>"
      ]
    },
    {
      "cell_type": "markdown",
      "source": [
        "# **Assignment 7 - Convolutional Neural Network (CNN)**\n",
        "---"
      ],
      "metadata": {
        "id": "J2Y5jQ-_uGa9"
      }
    },
    {
      "cell_type": "markdown",
      "source": [
        "# **Personal Information**\n",
        "\n",
        "**Team Members:**\n",
        "*   Raúl Ramírez Reyes (2006606)\n",
        "*   Rubén Darío Granados Cantú (2002003)\n",
        "*   Emanuel Lira Cordero (1997230)\n",
        "\n",
        "**Career:** Biomedical Engineering\n",
        "\n",
        "**Group:** 002\n",
        "\n",
        "**Class:** Artificial Inteligence\n",
        "\n",
        "**Professor:** Daniel Isaías López Páez\n",
        "\n",
        "**Hour:** Thursday N4-N6\n",
        "\n",
        "\n"
      ],
      "metadata": {
        "id": "ygiXTB5kNAI4"
      }
    },
    {
      "cell_type": "markdown",
      "source": [
        "# **Code**"
      ],
      "metadata": {
        "id": "pqWzhesKN-VR"
      }
    },
    {
      "cell_type": "markdown",
      "source": [
        "**Load Libraries**\n",
        "\n",
        "First we import the needed libraries for the CNN model. We'll use matplotlib, numpy, PIL and tensorflow for keras."
      ],
      "metadata": {
        "id": "qyfIy_SSOHFX"
      }
    },
    {
      "cell_type": "code",
      "execution_count": 5,
      "metadata": {
        "id": "NJFKGbLzuF01"
      },
      "outputs": [],
      "source": [
        "#Import Libraries\n",
        "\n",
        "import matplotlib.pyplot as plt\n",
        "import numpy as np\n",
        "import PIL\n",
        "import tensorflow as tf\n",
        "\n",
        "from tensorflow import keras\n",
        "from keras import datasets, layers, models\n",
        "from keras.datasets import mnist\n",
        "from random import randint"
      ]
    },
    {
      "cell_type": "markdown",
      "source": [
        "**Load Data**\n",
        "\n",
        "We load the data. Here, we will use the MNIST dataset."
      ],
      "metadata": {
        "id": "zFgLm6HvOX3o"
      }
    },
    {
      "cell_type": "code",
      "source": [
        "#Load Data\n",
        "(train_images, train_labels), (test_images, test_labels) = mnist.load_data()"
      ],
      "metadata": {
        "id": "xSWvq2ZZxXr3"
      },
      "execution_count": 6,
      "outputs": []
    },
    {
      "cell_type": "markdown",
      "source": [
        "**Data Preprocessing**\n",
        "\n",
        "We normalize the pixel values from the imported dataset."
      ],
      "metadata": {
        "id": "nHH3S0amO882"
      }
    },
    {
      "cell_type": "code",
      "source": [
        "# Normalize pixel values between 0 and 1\n",
        "train_images, test_images = train_images / 255.0, test_images / 255.0"
      ],
      "metadata": {
        "id": "lFkbHY3vO9x7"
      },
      "execution_count": 7,
      "outputs": []
    },
    {
      "cell_type": "markdown",
      "source": [
        "We can observe that the dataset was imported correctly."
      ],
      "metadata": {
        "id": "16pMINLyOmqh"
      }
    },
    {
      "cell_type": "code",
      "source": [
        "#Show Dataset\n",
        "\n",
        "plt.figure(figsize=(10,10))\n",
        "for i in range(15):\n",
        "    plt.subplot(5,5,i+1)\n",
        "    plt.xticks([])\n",
        "    plt.yticks([])\n",
        "    plt.grid(False)\n",
        "    plt.imshow(train_images[i])\n",
        "    plt.xlabel(train_labels[i])\n",
        "plt.show()"
      ],
      "metadata": {
        "colab": {
          "base_uri": "https://localhost:8080/",
          "height": 507
        },
        "id": "W1cpHAbgxfKc",
        "outputId": "ee4abf2c-7a4d-413f-e9d2-77e478105c62"
      },
      "execution_count": 8,
      "outputs": [
        {
          "output_type": "display_data",
          "data": {
            "text/plain": [
              "<Figure size 1000x1000 with 15 Axes>"
            ],
            "image/png": "[encoded data removed]"
          },
          "metadata": {}
        }
      ]
    },
    {
      "cell_type": "markdown",
      "source": [
        "**Model Selection and Training**\n",
        "\n",
        "We create the CNN model."
      ],
      "metadata": {
        "id": "iRSpUh6iOxlE"
      }
    },
    {
      "cell_type": "code",
      "source": [
        "#CNN creation\n",
        "\n",
        "model = models.Sequential()\n",
        "model.add(layers.Conv2D(32, (3, 3), activation='relu', input_shape=(28,28,1)))\n",
        "model.add(layers.MaxPooling2D((2, 2)))\n",
        "model.add(layers.Conv2D(64, (3, 3), activation='relu'))\n",
        "model.add(layers.MaxPooling2D((2, 2)))\n",
        "model.add(layers.Conv2D(64, (3, 3), activation='relu'))\n",
        "\n",
        "#Dense Layers\n",
        "model.add(layers.Flatten())\n",
        "model.add(layers.Dense(64, activation='relu'))\n",
        "model.add(layers.Dense(10, activation='softmax')) #Softmax on top layer"
      ],
      "metadata": {
        "id": "PBsU5P0v1FGv"
      },
      "execution_count": 9,
      "outputs": []
    },
    {
      "cell_type": "markdown",
      "source": [
        "A summary of the structure of the CNN model can be observed."
      ],
      "metadata": {
        "id": "RqAjfcfyPcx9"
      }
    },
    {
      "cell_type": "code",
      "source": [
        "#Structure of CNN\n",
        "\n",
        "model.summary()"
      ],
      "metadata": {
        "colab": {
          "base_uri": "https://localhost:8080/"
        },
        "id": "kz9x-0RsIsRM",
        "outputId": "3afb1e23-47dc-411a-8088-6c874d455267"
      },
      "execution_count": 10,
      "outputs": [
        {
          "output_type": "stream",
          "name": "stdout",
          "text": [
            "Model: \"sequential\"\n",
            "_________________________________________________________________\n",
            " Layer (type)                Output Shape              Param #   \n",
            "=================================================================\n",
            " conv2d (Conv2D)             (None, 26, 26, 32)        320       \n",
            "                                                                 \n",
            " max_pooling2d (MaxPooling2  (None, 13, 13, 32)        0         \n",
            " D)                                                              \n",
            "                                                                 \n",
            " conv2d_1 (Conv2D)           (None, 11, 11, 64)        18496     \n",
            "                                                                 \n",
            " max_pooling2d_1 (MaxPoolin  (None, 5, 5, 64)          0         \n",
            " g2D)                                                            \n",
            "                                                                 \n",
            " conv2d_2 (Conv2D)           (None, 3, 3, 64)          36928     \n",
            "                                                                 \n",
            " flatten (Flatten)           (None, 576)               0         \n",
            "                                                                 \n",
            " dense (Dense)               (None, 64)                36928     \n",
            "                                                                 \n",
            " dense_1 (Dense)             (None, 10)                650       \n",
            "                                                                 \n",
            "=================================================================\n",
            "Total params: 93322 (364.54 KB)\n",
            "Trainable params: 93322 (364.54 KB)\n",
            "Non-trainable params: 0 (0.00 Byte)\n",
            "_________________________________________________________________\n"
          ]
        }
      ]
    },
    {
      "cell_type": "markdown",
      "source": [
        "We train the CNN model."
      ],
      "metadata": {
        "id": "1_kIOmG1PlGH"
      }
    },
    {
      "cell_type": "code",
      "source": [
        "model.compile(optimizer='adam',\n",
        "              loss=tf.keras.losses.SparseCategoricalCrossentropy(from_logits=True),\n",
        "              metrics=['accuracy'])\n",
        "\n",
        "history = model.fit(train_images, train_labels, epochs=8, batch_size=180,\n",
        "                    validation_data=(test_images, test_labels))"
      ],
      "metadata": {
        "id": "wvm_zG4y89Ma",
        "colab": {
          "base_uri": "https://localhost:8080/"
        },
        "outputId": "a3b8e6c9-bf32-4fe8-ffc2-627b97454f8f"
      },
      "execution_count": 11,
      "outputs": [
        {
          "output_type": "stream",
          "name": "stdout",
          "text": [
            "Epoch 1/8\n"
          ]
        },
        {
          "output_type": "stream",
          "name": "stderr",
          "text": [
            "/usr/local/lib/python3.10/dist-packages/keras/src/backend.py:5727: UserWarning: \"`sparse_categorical_crossentropy` received `from_logits=True`, but the `output` argument was produced by a Softmax activation and thus does not represent logits. Was this intended?\n",
            "  output, from_logits = _get_logits(\n"
          ]
        },
        {
          "output_type": "stream",
          "name": "stdout",
          "text": [
            "334/334 [==============================] - 61s 179ms/step - loss: 0.2972 - accuracy: 0.9122 - val_loss: 0.0708 - val_accuracy: 0.9785\n",
            "Epoch 2/8\n",
            "334/334 [==============================] - 58s 172ms/step - loss: 0.0696 - accuracy: 0.9788 - val_loss: 0.0435 - val_accuracy: 0.9857\n",
            "Epoch 3/8\n",
            "334/334 [==============================] - 50s 149ms/step - loss: 0.0480 - accuracy: 0.9853 - val_loss: 0.0399 - val_accuracy: 0.9866\n",
            "Epoch 4/8\n",
            "334/334 [==============================] - 55s 166ms/step - loss: 0.0385 - accuracy: 0.9876 - val_loss: 0.0333 - val_accuracy: 0.9895\n",
            "Epoch 5/8\n",
            "334/334 [==============================] - 51s 153ms/step - loss: 0.0313 - accuracy: 0.9901 - val_loss: 0.0276 - val_accuracy: 0.9907\n",
            "Epoch 6/8\n",
            "334/334 [==============================] - 48s 145ms/step - loss: 0.0261 - accuracy: 0.9918 - val_loss: 0.0305 - val_accuracy: 0.9901\n",
            "Epoch 7/8\n",
            "334/334 [==============================] - 54s 162ms/step - loss: 0.0222 - accuracy: 0.9930 - val_loss: 0.0251 - val_accuracy: 0.9917\n",
            "Epoch 8/8\n",
            "334/334 [==============================] - 51s 153ms/step - loss: 0.0188 - accuracy: 0.9939 - val_loss: 0.0261 - val_accuracy: 0.9915\n"
          ]
        }
      ]
    },
    {
      "cell_type": "code",
      "source": [
        "plt.plot(history.history['accuracy'], label='Train Accuracy')\n",
        "plt.plot(history.history['val_accuracy'], label = 'Test Accuracy')\n",
        "plt.xlabel('Epoch')\n",
        "plt.ylabel('Accuracy')\n",
        "plt.ylim([0.5, 1])\n",
        "plt.legend(loc='lower right')"
      ],
      "metadata": {
        "id": "Fcvl6eY6Lt89",
        "colab": {
          "base_uri": "https://localhost:8080/",
          "height": 473
        },
        "outputId": "73457429-8611-46c9-da7e-670794ec1344"
      },
      "execution_count": 12,
      "outputs": [
        {
          "output_type": "execute_result",
          "data": {
            "text/plain": [
              "<matplotlib.legend.Legend at 0x7a720786bd00>"
            ]
          },
          "metadata": {},
          "execution_count": 12
        },
        {
          "output_type": "display_data",
          "data": {
            "text/plain": [
              "<Figure size 640x480 with 1 Axes>"
            ],
            "image/png": "[encoded data removed]"
          },
          "metadata": {}
        }
      ]
    },
    {
      "cell_type": "markdown",
      "source": [
        "**Model Testing**\n",
        "\n",
        "We test the model with the training done."
      ],
      "metadata": {
        "id": "zYyjwIUaTOO2"
      }
    },
    {
      "cell_type": "code",
      "source": [
        "test_loss, test_acc = model.evaluate(test_images,  test_labels, steps=5)\n",
        "\n",
        "# 5 Predictions\n",
        "for x in range(5):\n",
        "\n",
        "    # Random index in dataset\n",
        "    i = randint(0, len(test_images))\n",
        "\n",
        "    # Prediction\n",
        "    predict = np.argmax(model.predict(test_images[i:i+1]))\n",
        "\n",
        "    # Values and images\n",
        "    print(\"Predict:\", predict)\n",
        "    print(\"Real:\", test_labels[i])\n",
        "    plt.imshow(test_images[i])\n",
        "    plt.show()\n"
      ],
      "metadata": {
        "id": "h9jeb5__LxaX",
        "colab": {
          "base_uri": "https://localhost:8080/",
          "height": 1000
        },
        "outputId": "655719ea-0a6d-49c0-c52b-312df6e5b15b"
      },
      "execution_count": 19,
      "outputs": [
        {
          "output_type": "stream",
          "name": "stdout",
          "text": [
            "5/5 [==============================] - 2s 468ms/step - loss: 0.0261 - accuracy: 0.9915\n",
            "1/1 [==============================] - 0s 19ms/step\n",
            "Predict: 1\n",
            "Real: 1\n"
          ]
        },
        {
          "output_type": "display_data",
          "data": {
            "text/plain": [
              "<Figure size 640x480 with 1 Axes>"
            ],
            "image/png": "[encoded data removed]"
          },
          "metadata": {}
        },
        {
          "output_type": "stream",
          "name": "stdout",
          "text": [
            "1/1 [==============================] - 0s 20ms/step\n",
            "Predict: 0\n",
            "Real: 0\n"
          ]
        },
        {
          "output_type": "display_data",
          "data": {
            "text/plain": [
              "<Figure size 640x480 with 1 Axes>"
            ],
            "image/png": "[encoded data removed]"
          },
          "metadata": {}
        },
        {
          "output_type": "stream",
          "name": "stdout",
          "text": [
            "1/1 [==============================] - 0s 21ms/step\n",
            "Predict: 1\n",
            "Real: 1\n"
          ]
        },
        {
          "output_type": "display_data",
          "data": {
            "text/plain": [
              "<Figure size 640x480 with 1 Axes>"
            ],
            "image/png": "[encoded data removed]"
          },
          "metadata": {}
        },
        {
          "output_type": "stream",
          "name": "stdout",
          "text": [
            "1/1 [==============================] - 0s 20ms/step\n",
            "Predict: 8\n",
            "Real: 8\n"
          ]
        },
        {
          "output_type": "display_data",
          "data": {
            "text/plain": [
              "<Figure size 640x480 with 1 Axes>"
            ],
            "image/png": "[encoded data removed]"
          },
          "metadata": {}
        },
        {
          "output_type": "stream",
          "name": "stdout",
          "text": [
            "1/1 [==============================] - 0s 20ms/step\n",
            "Predict: 6\n",
            "Real: 6\n"
          ]
        },
        {
          "output_type": "display_data",
          "data": {
            "text/plain": [
              "<Figure size 640x480 with 1 Axes>"
            ],
            "image/png": "[encoded data removed]"
          },
          "metadata": {}
        }
      ]
    },
    {
      "cell_type": "markdown",
      "source": [
        "**Questions**\n",
        "\n",
        "\n",
        "\n",
        "*   *How many epochs did you use to improve the performance of the model compared with the feedforward neural network of assignment 6?*\n",
        "\n",
        ">  **8, with a batch_size of 180.**\n",
        "\n",
        "*   *Did you get a better performance on this assignment or on assignment 6? Why?*\n",
        "\n",
        "\n",
        "> **Yes, the obtained results performed better. The CNN is specifically designed to handle spatially structured data like images efficiently, which often leads to better performance compared to traditional feedforward neural networks. In here, the convolutional layers learn to detect several patters which helps us sort and classify several data.**"
      ],
      "metadata": {
        "id": "BI9lcXIIYsXF"
      }
    }
  ]
}